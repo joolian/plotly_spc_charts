{
 "cells": [
  {
   "cell_type": "markdown",
   "id": "03f19696",
   "metadata": {},
   "source": [
    "# Example of how to create an Average and Range Shewart chart"
   ]
  },
  {
   "cell_type": "code",
   "execution_count": 23,
   "id": "5466ba68",
   "metadata": {},
   "outputs": [],
   "source": [
    "from plotly_spc_charts.charts import XbarR\n",
    "import pandas as pd\n",
    "from pprint import pprint"
   ]
  },
  {
   "cell_type": "markdown",
   "id": "1f65eb88",
   "metadata": {},
   "source": [
    "## Get some data for water cooling pressure"
   ]
  },
  {
   "cell_type": "code",
   "execution_count": 24,
   "id": "7708bb9d",
   "metadata": {},
   "outputs": [],
   "source": [
    "# Get some data\n",
    "data = pd.read_csv('spc_example_data_cooling_water.csv')\n",
    "labels = data['Date'].to_numpy()\n",
    "values = data[[col for col in data.columns.values if 'Pressure' in col]].to_numpy()"
   ]
  },
  {
   "cell_type": "markdown",
   "id": "94936ecf",
   "metadata": {},
   "source": [
    "## Calculate the control limits"
   ]
  },
  {
   "cell_type": "code",
   "execution_count": 25,
   "id": "f08fb585",
   "metadata": {},
   "outputs": [],
   "source": [
    "# Create the chart object\n",
    "chart = XbarR(title='Average and Range ', x_title='Subgroup mean', r_title='Subgroup range')\n",
    "# Calculate the control limits using the first 12 subgroups\n",
    "chart.fit(values=values[:12, :], labels=labels[:12])"
   ]
  },
  {
   "cell_type": "markdown",
   "id": "a9ded590",
   "metadata": {},
   "source": [
    "## The chart can be plotted with the data used to calculate the limits"
   ]
  },
  {
   "cell_type": "code",
   "execution_count": 26,
   "id": "6f91eb79",
   "metadata": {},
   "outputs": [
    {
     "data": {
      "application/vnd.jupyter.widget-view+json": {
       "model_id": "a8a6e0789d40424585459a8fe4b84a0c",
       "version_major": 2,
       "version_minor": 0
      },
      "text/plain": [
       "FigureWidget({\n",
       "    'data': [{'customdata': [['2021-12-01', 'Subgroup mean: 57.6'], ['2021-12-02',\n",
       "            …"
      ]
     },
     "metadata": {},
     "output_type": "display_data"
    }
   ],
   "source": [
    "chart.chart.widget"
   ]
  },
  {
   "cell_type": "markdown",
   "id": "9b5ed4d2",
   "metadata": {},
   "source": [
    "## New data can be plotted"
   ]
  },
  {
   "cell_type": "code",
   "execution_count": 27,
   "id": "236290cf",
   "metadata": {
    "scrolled": true
   },
   "outputs": [],
   "source": [
    "# Calculate the ranges and means for new data\n",
    "chart.predict(values=values, labels=labels)"
   ]
  },
  {
   "cell_type": "markdown",
   "id": "910d19e0",
   "metadata": {},
   "source": [
    "## The control limits can be saved to a JSON file\n",
    "n: the subgroup size  \n",
    "type: the chart type  \n",
    "x_upper_limit: the upper control limit for the averages chart  \n",
    "x_lower_limit: the lower control limit for the averages chart  \n",
    "x_center_line: the center line for the averages chart  \n",
    "r_upper_limit: the upper control limit for the range chart  \n",
    "r_lower_limit: the lower control limit for the range chart  \n",
    "r_center_line: the center_line for the range chart  \n",
    "title: the chart title  \n",
    "x_title: the y-axis title for the averages chart  \n",
    "r_title: the y-axis title for the range chart"
   ]
  },
  {
   "cell_type": "code",
   "execution_count": 28,
   "id": "3301064b",
   "metadata": {},
   "outputs": [],
   "source": [
    "chart.save('chart_params.json')"
   ]
  },
  {
   "cell_type": "markdown",
   "id": "983a7fac",
   "metadata": {},
   "source": [
    "## The saved control limits can be loaded into another XbarR chart"
   ]
  },
  {
   "cell_type": "code",
   "execution_count": 29,
   "id": "1c9f316d",
   "metadata": {},
   "outputs": [
    {
     "data": {
      "application/vnd.jupyter.widget-view+json": {
       "model_id": "0a7e02f872f84bd69d24def758752097",
       "version_major": 2,
       "version_minor": 0
      },
      "text/plain": [
       "FigureWidget({\n",
       "    'data': [{'customdata': [['2021-12-17', 'Subgroup mean: 55.0'], ['2021-12-18',\n",
       "            …"
      ]
     },
     "metadata": {},
     "output_type": "display_data"
    }
   ],
   "source": [
    "another_chart = XbarR()\n",
    "another_chart.load('chart_params.json')\n",
    "# Calculate the ranges and means for new data\n",
    "another_chart.predict(values=values[12:, :], labels=labels[12:])\n",
    "# plot the chart\n",
    "another_chart.chart.widget"
   ]
  },
  {
   "cell_type": "markdown",
   "id": "8ad08331",
   "metadata": {},
   "source": [
    "## The control limits can be returned as a dictionary"
   ]
  },
  {
   "cell_type": "code",
   "execution_count": 30,
   "id": "efbc8a95",
   "metadata": {},
   "outputs": [
    {
     "name": "stdout",
     "output_type": "stream",
     "text": [
      "{'n': 5,\n",
      " 'r_center_line': 8.5,\n",
      " 'r_lower_limit': 0.0,\n",
      " 'r_title': 'Subgroup range',\n",
      " 'r_upper_limit': 17.97324273335,\n",
      " 'title': 'Water cooling pressure Average and Range chart',\n",
      " 'type': 'XBarR',\n",
      " 'x_center_line': 57.88333333333333,\n",
      " 'x_lower_limit': 52.98036899348333,\n",
      " 'x_title': 'Subgroup mean',\n",
      " 'x_upper_limit': 62.786297673183334}\n"
     ]
    }
   ],
   "source": [
    "pprint(chart.params)"
   ]
  },
  {
   "cell_type": "markdown",
   "id": "a5fd2028",
   "metadata": {},
   "source": [
    "## The control limits can be set with a dictionary"
   ]
  },
  {
   "cell_type": "code",
   "execution_count": 31,
   "id": "be0fde19",
   "metadata": {},
   "outputs": [],
   "source": [
    "another_chart.params = {\n",
    "    'n': 5,\n",
    "    'r_center_line': 8.5,\n",
    "    'r_lower_limit': 0.0,\n",
    "    'r_title': 'Subgroup range',\n",
    "    'r_upper_limit': 17.97324273335,\n",
    "    'title': 'Water cooling pressure',\n",
    "    'type': 'XBarR',\n",
    "    'x_center_line': 57.88333333333333,\n",
    "    'x_lower_limit': 52.98036899348333,\n",
    "    'x_title': 'Subgroup mean',\n",
    "    'x_upper_limit': 62.786297673183334\n",
    "}"
   ]
  },
  {
   "cell_type": "markdown",
   "id": "072c5ccd",
   "metadata": {},
   "source": [
    "## The subgroup averages, ranges and status can be retrieved as a pandas.DataFrame\n",
    "labels: are the subgroup labels  \n",
    "x_values: the subgroup averages  \n",
    "r_values: the subgroup ranges  \n",
    "x_in_control: True if a subgroup average is in control  \n",
    "y_in_control: True if a subgroup range is in control"
   ]
  },
  {
   "cell_type": "code",
   "execution_count": 32,
   "id": "8da84ee7",
   "metadata": {},
   "outputs": [
    {
     "data": {
      "text/html": [
       "<div>\n",
       "<style scoped>\n",
       "    .dataframe tbody tr th:only-of-type {\n",
       "        vertical-align: middle;\n",
       "    }\n",
       "\n",
       "    .dataframe tbody tr th {\n",
       "        vertical-align: top;\n",
       "    }\n",
       "\n",
       "    .dataframe thead th {\n",
       "        text-align: right;\n",
       "    }\n",
       "</style>\n",
       "<table border=\"1\" class=\"dataframe\">\n",
       "  <thead>\n",
       "    <tr style=\"text-align: right;\">\n",
       "      <th></th>\n",
       "      <th>labels</th>\n",
       "      <th>x_values</th>\n",
       "      <th>r_values</th>\n",
       "      <th>x_in_control</th>\n",
       "      <th>r_in_control</th>\n",
       "    </tr>\n",
       "  </thead>\n",
       "  <tbody>\n",
       "    <tr>\n",
       "      <th>0</th>\n",
       "      <td>2021-12-01</td>\n",
       "      <td>57.6</td>\n",
       "      <td>6</td>\n",
       "      <td>True</td>\n",
       "      <td>True</td>\n",
       "    </tr>\n",
       "    <tr>\n",
       "      <th>1</th>\n",
       "      <td>2021-12-02</td>\n",
       "      <td>59.4</td>\n",
       "      <td>7</td>\n",
       "      <td>True</td>\n",
       "      <td>True</td>\n",
       "    </tr>\n",
       "    <tr>\n",
       "      <th>2</th>\n",
       "      <td>2021-12-03</td>\n",
       "      <td>58.2</td>\n",
       "      <td>6</td>\n",
       "      <td>True</td>\n",
       "      <td>True</td>\n",
       "    </tr>\n",
       "    <tr>\n",
       "      <th>3</th>\n",
       "      <td>2021-12-04</td>\n",
       "      <td>60.0</td>\n",
       "      <td>6</td>\n",
       "      <td>True</td>\n",
       "      <td>True</td>\n",
       "    </tr>\n",
       "    <tr>\n",
       "      <th>4</th>\n",
       "      <td>2021-12-07</td>\n",
       "      <td>57.8</td>\n",
       "      <td>7</td>\n",
       "      <td>True</td>\n",
       "      <td>True</td>\n",
       "    </tr>\n",
       "    <tr>\n",
       "      <th>5</th>\n",
       "      <td>2021-12-08</td>\n",
       "      <td>57.6</td>\n",
       "      <td>7</td>\n",
       "      <td>True</td>\n",
       "      <td>True</td>\n",
       "    </tr>\n",
       "    <tr>\n",
       "      <th>6</th>\n",
       "      <td>2021-12-09</td>\n",
       "      <td>55.4</td>\n",
       "      <td>16</td>\n",
       "      <td>True</td>\n",
       "      <td>True</td>\n",
       "    </tr>\n",
       "    <tr>\n",
       "      <th>7</th>\n",
       "      <td>2021-12-10</td>\n",
       "      <td>55.4</td>\n",
       "      <td>6</td>\n",
       "      <td>True</td>\n",
       "      <td>True</td>\n",
       "    </tr>\n",
       "    <tr>\n",
       "      <th>8</th>\n",
       "      <td>2021-12-11</td>\n",
       "      <td>58.0</td>\n",
       "      <td>9</td>\n",
       "      <td>True</td>\n",
       "      <td>True</td>\n",
       "    </tr>\n",
       "    <tr>\n",
       "      <th>9</th>\n",
       "      <td>2021-12-14</td>\n",
       "      <td>58.2</td>\n",
       "      <td>3</td>\n",
       "      <td>True</td>\n",
       "      <td>True</td>\n",
       "    </tr>\n",
       "    <tr>\n",
       "      <th>10</th>\n",
       "      <td>2021-12-15</td>\n",
       "      <td>59.0</td>\n",
       "      <td>11</td>\n",
       "      <td>True</td>\n",
       "      <td>True</td>\n",
       "    </tr>\n",
       "    <tr>\n",
       "      <th>11</th>\n",
       "      <td>2021-12-16</td>\n",
       "      <td>58.0</td>\n",
       "      <td>18</td>\n",
       "      <td>True</td>\n",
       "      <td>False</td>\n",
       "    </tr>\n",
       "    <tr>\n",
       "      <th>12</th>\n",
       "      <td>2021-12-17</td>\n",
       "      <td>55.0</td>\n",
       "      <td>6</td>\n",
       "      <td>True</td>\n",
       "      <td>True</td>\n",
       "    </tr>\n",
       "    <tr>\n",
       "      <th>13</th>\n",
       "      <td>2021-12-18</td>\n",
       "      <td>61.4</td>\n",
       "      <td>8</td>\n",
       "      <td>True</td>\n",
       "      <td>True</td>\n",
       "    </tr>\n",
       "    <tr>\n",
       "      <th>14</th>\n",
       "      <td>2021-12-21</td>\n",
       "      <td>69.8</td>\n",
       "      <td>1</td>\n",
       "      <td>False</td>\n",
       "      <td>True</td>\n",
       "    </tr>\n",
       "    <tr>\n",
       "      <th>15</th>\n",
       "      <td>2021-12-22</td>\n",
       "      <td>68.4</td>\n",
       "      <td>10</td>\n",
       "      <td>False</td>\n",
       "      <td>True</td>\n",
       "    </tr>\n",
       "    <tr>\n",
       "      <th>16</th>\n",
       "      <td>2022-01-04</td>\n",
       "      <td>52.2</td>\n",
       "      <td>14</td>\n",
       "      <td>False</td>\n",
       "      <td>True</td>\n",
       "    </tr>\n",
       "    <tr>\n",
       "      <th>17</th>\n",
       "      <td>2022-01-05</td>\n",
       "      <td>51.8</td>\n",
       "      <td>10</td>\n",
       "      <td>False</td>\n",
       "      <td>True</td>\n",
       "    </tr>\n",
       "    <tr>\n",
       "      <th>18</th>\n",
       "      <td>2022-01-06</td>\n",
       "      <td>46.6</td>\n",
       "      <td>7</td>\n",
       "      <td>False</td>\n",
       "      <td>True</td>\n",
       "    </tr>\n",
       "    <tr>\n",
       "      <th>19</th>\n",
       "      <td>2022-01-07</td>\n",
       "      <td>52.6</td>\n",
       "      <td>12</td>\n",
       "      <td>False</td>\n",
       "      <td>True</td>\n",
       "    </tr>\n",
       "    <tr>\n",
       "      <th>20</th>\n",
       "      <td>2022-01-08</td>\n",
       "      <td>56.8</td>\n",
       "      <td>13</td>\n",
       "      <td>True</td>\n",
       "      <td>True</td>\n",
       "    </tr>\n",
       "    <tr>\n",
       "      <th>21</th>\n",
       "      <td>2022-01-11</td>\n",
       "      <td>58.6</td>\n",
       "      <td>6</td>\n",
       "      <td>True</td>\n",
       "      <td>True</td>\n",
       "    </tr>\n",
       "    <tr>\n",
       "      <th>22</th>\n",
       "      <td>2022-01-12</td>\n",
       "      <td>51.8</td>\n",
       "      <td>19</td>\n",
       "      <td>False</td>\n",
       "      <td>False</td>\n",
       "    </tr>\n",
       "    <tr>\n",
       "      <th>23</th>\n",
       "      <td>2022-01-13</td>\n",
       "      <td>54.2</td>\n",
       "      <td>15</td>\n",
       "      <td>True</td>\n",
       "      <td>True</td>\n",
       "    </tr>\n",
       "  </tbody>\n",
       "</table>\n",
       "</div>"
      ],
      "text/plain": [
       "        labels  x_values  r_values  x_in_control  r_in_control\n",
       "0   2021-12-01      57.6         6          True          True\n",
       "1   2021-12-02      59.4         7          True          True\n",
       "2   2021-12-03      58.2         6          True          True\n",
       "3   2021-12-04      60.0         6          True          True\n",
       "4   2021-12-07      57.8         7          True          True\n",
       "5   2021-12-08      57.6         7          True          True\n",
       "6   2021-12-09      55.4        16          True          True\n",
       "7   2021-12-10      55.4         6          True          True\n",
       "8   2021-12-11      58.0         9          True          True\n",
       "9   2021-12-14      58.2         3          True          True\n",
       "10  2021-12-15      59.0        11          True          True\n",
       "11  2021-12-16      58.0        18          True         False\n",
       "12  2021-12-17      55.0         6          True          True\n",
       "13  2021-12-18      61.4         8          True          True\n",
       "14  2021-12-21      69.8         1         False          True\n",
       "15  2021-12-22      68.4        10         False          True\n",
       "16  2022-01-04      52.2        14         False          True\n",
       "17  2022-01-05      51.8        10         False          True\n",
       "18  2022-01-06      46.6         7         False          True\n",
       "19  2022-01-07      52.6        12         False          True\n",
       "20  2022-01-08      56.8        13          True          True\n",
       "21  2022-01-11      58.6         6          True          True\n",
       "22  2022-01-12      51.8        19         False         False\n",
       "23  2022-01-13      54.2        15          True          True"
      ]
     },
     "execution_count": 32,
     "metadata": {},
     "output_type": "execute_result"
    }
   ],
   "source": [
    "chart.predicted"
   ]
  },
  {
   "cell_type": "markdown",
   "id": "e7c6ed72",
   "metadata": {},
   "source": [
    "## The chart can be saved as an image file: PNG, JPEG, WebP, SVG and PDF"
   ]
  },
  {
   "cell_type": "code",
   "execution_count": 33,
   "id": "32da15e4",
   "metadata": {},
   "outputs": [],
   "source": [
    "chart.save_chart('XbarR_chart.svg')"
   ]
  }
 ],
 "metadata": {
  "kernelspec": {
   "display_name": "Python 3 (ipykernel)",
   "language": "python",
   "name": "python3"
  },
  "language_info": {
   "codemirror_mode": {
    "name": "ipython",
    "version": 3
   },
   "file_extension": ".py",
   "mimetype": "text/x-python",
   "name": "python",
   "nbconvert_exporter": "python",
   "pygments_lexer": "ipython3",
   "version": "3.11.5"
  }
 },
 "nbformat": 4,
 "nbformat_minor": 5
}
