{
 "cells": [
  {
   "cell_type": "markdown",
   "id": "03f19696",
   "metadata": {},
   "source": [
    "# Example of how to create an Individual and Moving Range chart"
   ]
  },
  {
   "cell_type": "code",
   "execution_count": 11,
   "id": "5466ba68",
   "metadata": {},
   "outputs": [],
   "source": [
    "from plotly_spc_charts.charts import IndividualMR\n",
    "import pandas as pd\n",
    "from pprint import pprint"
   ]
  },
  {
   "cell_type": "markdown",
   "id": "1f65eb88",
   "metadata": {},
   "source": [
    "## Get some data for water cooling pressure"
   ]
  },
  {
   "cell_type": "code",
   "execution_count": 12,
   "id": "7708bb9d",
   "metadata": {},
   "outputs": [],
   "source": [
    "# Get some data\n",
    "data = pd.read_csv('IndividualMR_example_data.csv')\n",
    "values = data['values']\n",
    "labels = data['labels']"
   ]
  },
  {
   "cell_type": "markdown",
   "id": "94936ecf",
   "metadata": {},
   "source": [
    "## Calculate the control limits"
   ]
  },
  {
   "cell_type": "code",
   "execution_count": 13,
   "id": "f08fb585",
   "metadata": {},
   "outputs": [],
   "source": [
    "# Create the chart object\n",
    "chart = IndividualMR(title='Individuals Moving Range Chart', x_title='Values', r_title='Moving range')\n",
    "# Calculate the control limits using the first 12 values\n",
    "chart.fit(values=values[:12], labels=labels[:12])"
   ]
  },
  {
   "cell_type": "markdown",
   "id": "a9ded590",
   "metadata": {},
   "source": [
    "## The chart can be plotted with the data used to calculate the limits"
   ]
  },
  {
   "cell_type": "code",
   "execution_count": 14,
   "id": "6f91eb79",
   "metadata": {
    "scrolled": false
   },
   "outputs": [
    {
     "data": {
      "application/vnd.jupyter.widget-view+json": {
       "model_id": "bcc3e5a3a040477cb14583ed33af2ba9",
       "version_major": 2,
       "version_minor": 0
      },
      "text/plain": [
       "FigureWidget({\n",
       "    'data': [{'customdata': [['A', 'Values: 39'], ['B', 'Values: 41'], ['C',\n",
       "                  …"
      ]
     },
     "metadata": {},
     "output_type": "display_data"
    }
   ],
   "source": [
    "chart.chart.widget"
   ]
  },
  {
   "cell_type": "markdown",
   "id": "9b5ed4d2",
   "metadata": {},
   "source": [
    "## New data can be plotted"
   ]
  },
  {
   "cell_type": "code",
   "execution_count": 15,
   "id": "236290cf",
   "metadata": {},
   "outputs": [
    {
     "name": "stderr",
     "output_type": "stream",
     "text": [
      "/Users/julianwright/miniconda3/envs/spc/lib/python3.11/site-packages/jupyter_client/session.py:718: UserWarning:\n",
      "\n",
      "Message serialization failed with:\n",
      "Out of range float values are not JSON compliant\n",
      "Supporting this message is deprecated in jupyter-client 7, please make sure your message is JSON-compliant\n",
      "\n"
     ]
    }
   ],
   "source": [
    "# Calculate the ranges and means for new data\n",
    "chart.predict(values=values, labels=labels)\n",
    "# plot the chart\n",
    "# chart.plot()"
   ]
  },
  {
   "cell_type": "markdown",
   "id": "910d19e0",
   "metadata": {},
   "source": [
    "## The control limits can be saved to a JSON file\n",
    "n: the subgroup size  \n",
    "type: the chart type  \n",
    "x_upper_limit: the upper control limit for the individuals chart  \n",
    "x_lower_limit: the lower control limit for the individuals chart  \n",
    "x_center_line: the center line for the individuals chart  \n",
    "r_upper_limit: the upper control limit for the moving range chart  \n",
    "r_lower_limit: the lower control limit for the moving range chart  \n",
    "r_center_line: the center_line for the moving range chart  \n",
    "title: the chart title  \n",
    "x_title: the y-axis title for the individuals chart  \n",
    "r_title: the y-axis title for the moving range chart"
   ]
  },
  {
   "cell_type": "code",
   "execution_count": 16,
   "id": "3301064b",
   "metadata": {},
   "outputs": [],
   "source": [
    "chart.save('chart_params.json')"
   ]
  },
  {
   "cell_type": "markdown",
   "id": "983a7fac",
   "metadata": {},
   "source": [
    "## The saved control limits can be loaded into another XbarR chart"
   ]
  },
  {
   "cell_type": "code",
   "execution_count": 17,
   "id": "1c9f316d",
   "metadata": {},
   "outputs": [
    {
     "name": "stderr",
     "output_type": "stream",
     "text": [
      "/Users/julianwright/miniconda3/envs/spc/lib/python3.11/site-packages/jupyter_client/session.py:718: UserWarning:\n",
      "\n",
      "Message serialization failed with:\n",
      "Out of range float values are not JSON compliant\n",
      "Supporting this message is deprecated in jupyter-client 7, please make sure your message is JSON-compliant\n",
      "\n"
     ]
    },
    {
     "data": {
      "application/vnd.jupyter.widget-view+json": {
       "model_id": "c453c00efa674bd6b7f2359f1e79f2fd",
       "version_major": 2,
       "version_minor": 0
      },
      "text/plain": [
       "FigureWidget({\n",
       "    'data': [{'customdata': [['G', 'Values: 41'], ['H', 'Values: 42'], ['I',\n",
       "                  …"
      ]
     },
     "metadata": {},
     "output_type": "display_data"
    }
   ],
   "source": [
    "another_chart = IndividualMR()\n",
    "another_chart.load('chart_params.json')\n",
    "# Calculate the ranges and means for new data\n",
    "another_chart.predict(values=values[6:], labels=labels[6:])\n",
    "# plot the chart\n",
    "another_chart.chart.widget"
   ]
  },
  {
   "cell_type": "markdown",
   "id": "8ad08331",
   "metadata": {},
   "source": [
    "## The control limits can be returned as a dictionary"
   ]
  },
  {
   "cell_type": "code",
   "execution_count": 18,
   "id": "efbc8a95",
   "metadata": {},
   "outputs": [
    {
     "name": "stdout",
     "output_type": "stream",
     "text": [
      "{'n': 1,\n",
      " 'r_center_line': 1.7272727272727273,\n",
      " 'r_lower_limit': 0,\n",
      " 'r_title': 'Moving range',\n",
      " 'r_upper_limit': 5.642191496972727,\n",
      " 'title': 'Individuals Moving Range Chart',\n",
      " 'type': 'IndividualMR',\n",
      " 'x_center_line': 41.416666666666664,\n",
      " 'x_lower_limit': 36.824399871157,\n",
      " 'x_title': 'Values',\n",
      " 'x_upper_limit': 46.00893346217633}\n"
     ]
    }
   ],
   "source": [
    "pprint(chart.params)"
   ]
  },
  {
   "cell_type": "markdown",
   "id": "a5fd2028",
   "metadata": {},
   "source": [
    "## The control limits can be set with a dictionary"
   ]
  },
  {
   "cell_type": "code",
   "execution_count": 19,
   "id": "be0fde19",
   "metadata": {},
   "outputs": [],
   "source": [
    "another_chart.params = {\n",
    "    'n': 1,\n",
    "    'r_center_line': 8.5,\n",
    "    'r_lower_limit': 0.0,\n",
    "    'r_title': 'Subgroup range',\n",
    "    'r_upper_limit': 17.97324273335,\n",
    "    'title': 'Water cooling pressure',\n",
    "    'type': 'XBarR',\n",
    "    'x_center_line': 57.88333333333333,\n",
    "    'x_lower_limit': 52.98036899348333,\n",
    "    'x_title': 'Subgroup mean',\n",
    "    'x_upper_limit': 62.786297673183334\n",
    "}"
   ]
  },
  {
   "cell_type": "markdown",
   "id": "072c5ccd",
   "metadata": {},
   "source": [
    "## The subgroup averages, ranges and status can be retrieved as a pandas.DataFrame\n",
    "labels: are the subgroup labels  \n",
    "x_values: the individual values  \n",
    "r_values: the moving ranges  \n",
    "x_in_control: True if an individual value is in control  \n",
    "y_in_control: True if a moving range is in control"
   ]
  },
  {
   "cell_type": "code",
   "execution_count": 20,
   "id": "8da84ee7",
   "metadata": {},
   "outputs": [
    {
     "data": {
      "text/html": [
       "<div>\n",
       "<style scoped>\n",
       "    .dataframe tbody tr th:only-of-type {\n",
       "        vertical-align: middle;\n",
       "    }\n",
       "\n",
       "    .dataframe tbody tr th {\n",
       "        vertical-align: top;\n",
       "    }\n",
       "\n",
       "    .dataframe thead th {\n",
       "        text-align: right;\n",
       "    }\n",
       "</style>\n",
       "<table border=\"1\" class=\"dataframe\">\n",
       "  <thead>\n",
       "    <tr style=\"text-align: right;\">\n",
       "      <th></th>\n",
       "      <th>labels</th>\n",
       "      <th>x_values</th>\n",
       "      <th>r_values</th>\n",
       "      <th>x_in_control</th>\n",
       "      <th>r_in_control</th>\n",
       "    </tr>\n",
       "  </thead>\n",
       "  <tbody>\n",
       "    <tr>\n",
       "      <th>0</th>\n",
       "      <td>A</td>\n",
       "      <td>39</td>\n",
       "      <td>NaN</td>\n",
       "      <td>True</td>\n",
       "      <td>True</td>\n",
       "    </tr>\n",
       "    <tr>\n",
       "      <th>1</th>\n",
       "      <td>B</td>\n",
       "      <td>41</td>\n",
       "      <td>2.0</td>\n",
       "      <td>True</td>\n",
       "      <td>True</td>\n",
       "    </tr>\n",
       "    <tr>\n",
       "      <th>2</th>\n",
       "      <td>C</td>\n",
       "      <td>41</td>\n",
       "      <td>0.0</td>\n",
       "      <td>True</td>\n",
       "      <td>True</td>\n",
       "    </tr>\n",
       "    <tr>\n",
       "      <th>3</th>\n",
       "      <td>D</td>\n",
       "      <td>41</td>\n",
       "      <td>0.0</td>\n",
       "      <td>True</td>\n",
       "      <td>True</td>\n",
       "    </tr>\n",
       "    <tr>\n",
       "      <th>4</th>\n",
       "      <td>E</td>\n",
       "      <td>43</td>\n",
       "      <td>2.0</td>\n",
       "      <td>True</td>\n",
       "      <td>True</td>\n",
       "    </tr>\n",
       "    <tr>\n",
       "      <th>5</th>\n",
       "      <td>F</td>\n",
       "      <td>44</td>\n",
       "      <td>1.0</td>\n",
       "      <td>True</td>\n",
       "      <td>True</td>\n",
       "    </tr>\n",
       "    <tr>\n",
       "      <th>6</th>\n",
       "      <td>G</td>\n",
       "      <td>41</td>\n",
       "      <td>3.0</td>\n",
       "      <td>True</td>\n",
       "      <td>True</td>\n",
       "    </tr>\n",
       "    <tr>\n",
       "      <th>7</th>\n",
       "      <td>H</td>\n",
       "      <td>42</td>\n",
       "      <td>1.0</td>\n",
       "      <td>True</td>\n",
       "      <td>True</td>\n",
       "    </tr>\n",
       "    <tr>\n",
       "      <th>8</th>\n",
       "      <td>I</td>\n",
       "      <td>40</td>\n",
       "      <td>2.0</td>\n",
       "      <td>True</td>\n",
       "      <td>True</td>\n",
       "    </tr>\n",
       "    <tr>\n",
       "      <th>9</th>\n",
       "      <td>J</td>\n",
       "      <td>41</td>\n",
       "      <td>1.0</td>\n",
       "      <td>True</td>\n",
       "      <td>True</td>\n",
       "    </tr>\n",
       "    <tr>\n",
       "      <th>10</th>\n",
       "      <td>K</td>\n",
       "      <td>44</td>\n",
       "      <td>3.0</td>\n",
       "      <td>True</td>\n",
       "      <td>True</td>\n",
       "    </tr>\n",
       "    <tr>\n",
       "      <th>11</th>\n",
       "      <td>L</td>\n",
       "      <td>40</td>\n",
       "      <td>4.0</td>\n",
       "      <td>True</td>\n",
       "      <td>True</td>\n",
       "    </tr>\n",
       "    <tr>\n",
       "      <th>12</th>\n",
       "      <td>M</td>\n",
       "      <td>41</td>\n",
       "      <td>1.0</td>\n",
       "      <td>True</td>\n",
       "      <td>True</td>\n",
       "    </tr>\n",
       "    <tr>\n",
       "      <th>13</th>\n",
       "      <td>N</td>\n",
       "      <td>49</td>\n",
       "      <td>8.0</td>\n",
       "      <td>False</td>\n",
       "      <td>False</td>\n",
       "    </tr>\n",
       "    <tr>\n",
       "      <th>14</th>\n",
       "      <td>NaN</td>\n",
       "      <td>48</td>\n",
       "      <td>1.0</td>\n",
       "      <td>False</td>\n",
       "      <td>True</td>\n",
       "    </tr>\n",
       "  </tbody>\n",
       "</table>\n",
       "</div>"
      ],
      "text/plain": [
       "   labels  x_values  r_values  x_in_control  r_in_control\n",
       "0       A        39       NaN          True          True\n",
       "1       B        41       2.0          True          True\n",
       "2       C        41       0.0          True          True\n",
       "3       D        41       0.0          True          True\n",
       "4       E        43       2.0          True          True\n",
       "5       F        44       1.0          True          True\n",
       "6       G        41       3.0          True          True\n",
       "7       H        42       1.0          True          True\n",
       "8       I        40       2.0          True          True\n",
       "9       J        41       1.0          True          True\n",
       "10      K        44       3.0          True          True\n",
       "11      L        40       4.0          True          True\n",
       "12      M        41       1.0          True          True\n",
       "13      N        49       8.0         False         False\n",
       "14    NaN        48       1.0         False          True"
      ]
     },
     "execution_count": 20,
     "metadata": {},
     "output_type": "execute_result"
    }
   ],
   "source": [
    "chart.predicted"
   ]
  },
  {
   "cell_type": "markdown",
   "id": "e7c6ed72",
   "metadata": {},
   "source": [
    "## The chart can be saved as an image file: PNG, JPEG, WebP, SVG and PDF"
   ]
  },
  {
   "cell_type": "code",
   "execution_count": 21,
   "id": "32da15e4",
   "metadata": {},
   "outputs": [],
   "source": [
    "chart.save_chart('chart_image.png')"
   ]
  }
 ],
 "metadata": {
  "kernelspec": {
   "display_name": "Python 3 (ipykernel)",
   "language": "python",
   "name": "python3"
  },
  "language_info": {
   "codemirror_mode": {
    "name": "ipython",
    "version": 3
   },
   "file_extension": ".py",
   "mimetype": "text/x-python",
   "name": "python",
   "nbconvert_exporter": "python",
   "pygments_lexer": "ipython3",
   "version": "3.11.5"
  }
 },
 "nbformat": 4,
 "nbformat_minor": 5
}
